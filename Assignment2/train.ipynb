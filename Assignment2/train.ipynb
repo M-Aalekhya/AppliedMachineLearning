{
 "cells": [
  {
   "cell_type": "code",
   "execution_count": 1,
   "metadata": {},
   "outputs": [],
   "source": [
    "import pandas as pd\n",
    "import numpy as np\n",
    "import mlflow\n",
    "import mlflow.sklearn\n",
    "from sklearn.feature_extraction.text import TfidfVectorizer\n",
    "from sklearn.model_selection import train_test_split\n",
    "from sklearn.pipeline import Pipeline\n",
    "from sklearn.metrics import accuracy_score, classification_report, precision_recall_curve, auc\n",
    "from sklearn.linear_model import LogisticRegression\n",
    "from sklearn.naive_bayes import MultinomialNB\n",
    "from sklearn.ensemble import RandomForestClassifier\n",
    "import matplotlib.pyplot as plt\n",
    "import seaborn as sns\n",
    "import os\n",
    "import re\n",
    "import nltk\n",
    "from nltk.corpus import stopwords\n",
    "from nltk.tokenize import word_tokenize\n",
    "from nltk.stem import WordNetLemmatizer\n",
    "\n",
    "import warnings\n",
    "warnings.filterwarnings('ignore')"
   ]
  },
  {
   "cell_type": "code",
   "execution_count": 2,
   "metadata": {},
   "outputs": [
    {
     "name": "stderr",
     "output_type": "stream",
     "text": [
      "[nltk_data] Downloading package punkt to\n",
      "[nltk_data]     C:\\Users\\HP\\AppData\\Roaming\\nltk_data...\n",
      "[nltk_data]   Package punkt is already up-to-date!\n",
      "[nltk_data] Downloading package punkt_tab to\n",
      "[nltk_data]     C:\\Users\\HP\\AppData\\Roaming\\nltk_data...\n",
      "[nltk_data]   Package punkt_tab is already up-to-date!\n",
      "[nltk_data] Downloading package stopwords to\n",
      "[nltk_data]     C:\\Users\\HP\\AppData\\Roaming\\nltk_data...\n",
      "[nltk_data]   Package stopwords is already up-to-date!\n",
      "[nltk_data] Downloading package wordnet to\n",
      "[nltk_data]     C:\\Users\\HP\\AppData\\Roaming\\nltk_data...\n",
      "[nltk_data]   Package wordnet is already up-to-date!\n"
     ]
    },
    {
     "data": {
      "text/plain": [
       "True"
      ]
     },
     "execution_count": 2,
     "metadata": {},
     "output_type": "execute_result"
    }
   ],
   "source": [
    "nltk.download('punkt')\n",
    "nltk.download('punkt_tab')\n",
    "nltk.download('stopwords')\n",
    "nltk.download('wordnet')"
   ]
  },
  {
   "cell_type": "code",
   "execution_count": 3,
   "metadata": {},
   "outputs": [],
   "source": [
    "stop_words = set(stopwords.words('english'))"
   ]
  },
  {
   "cell_type": "code",
   "execution_count": 4,
   "metadata": {},
   "outputs": [],
   "source": [
    "# Set the MLflow tracking URI \n",
    "mlflow.set_tracking_uri(\"file:./mlruns\")"
   ]
  },
  {
   "cell_type": "code",
   "execution_count": 5,
   "metadata": {},
   "outputs": [
    {
     "name": "stderr",
     "output_type": "stream",
     "text": [
      "2025/03/04 21:12:54 INFO mlflow.tracking.fluent: Experiment with name 'sms-spam-classification' does not exist. Creating a new experiment.\n"
     ]
    },
    {
     "data": {
      "text/plain": [
       "<Experiment: artifact_location=('file:c:/Users/HP/OneDrive/Desktop/CMI/CMI Semester '\n",
       " '4/AML/AppliedMachineLearning/Assignment2/mlruns/130972181796319339'), creation_time=1741102974904, experiment_id='130972181796319339', last_update_time=1741102974904, lifecycle_stage='active', name='sms-spam-classification', tags={}>"
      ]
     },
     "execution_count": 5,
     "metadata": {},
     "output_type": "execute_result"
    }
   ],
   "source": [
    "# Set the experiment name\n",
    "experiment_name = \"sms-spam-classification\"\n",
    "mlflow.set_experiment(experiment_name)"
   ]
  },
  {
   "cell_type": "code",
   "execution_count": 6,
   "metadata": {},
   "outputs": [],
   "source": [
    "# Load the datasets\n",
    "train_df = pd.read_csv('./train.csv')\n",
    "val_df = pd.read_csv('./validation.csv')\n",
    "test_df = pd.read_csv('./test.csv')"
   ]
  },
  {
   "cell_type": "code",
   "execution_count": 7,
   "metadata": {},
   "outputs": [
    {
     "data": {
      "text/html": [
       "<div>\n",
       "<style scoped>\n",
       "    .dataframe tbody tr th:only-of-type {\n",
       "        vertical-align: middle;\n",
       "    }\n",
       "\n",
       "    .dataframe tbody tr th {\n",
       "        vertical-align: top;\n",
       "    }\n",
       "\n",
       "    .dataframe thead th {\n",
       "        text-align: right;\n",
       "    }\n",
       "</style>\n",
       "<table border=\"1\" class=\"dataframe\">\n",
       "  <thead>\n",
       "    <tr style=\"text-align: right;\">\n",
       "      <th></th>\n",
       "      <th>label</th>\n",
       "      <th>message</th>\n",
       "    </tr>\n",
       "  </thead>\n",
       "  <tbody>\n",
       "    <tr>\n",
       "      <th>0</th>\n",
       "      <td>0</td>\n",
       "      <td>Hey!!! I almost forgot ... Happy B-day babe ! ...</td>\n",
       "    </tr>\n",
       "    <tr>\n",
       "      <th>1</th>\n",
       "      <td>0</td>\n",
       "      <td>Pls confirm the time to collect the cheque.</td>\n",
       "    </tr>\n",
       "    <tr>\n",
       "      <th>2</th>\n",
       "      <td>0</td>\n",
       "      <td>Just sleeping..and surfing</td>\n",
       "    </tr>\n",
       "    <tr>\n",
       "      <th>3</th>\n",
       "      <td>1</td>\n",
       "      <td>Dear Dave this is your final notice to collect...</td>\n",
       "    </tr>\n",
       "    <tr>\n",
       "      <th>4</th>\n",
       "      <td>0</td>\n",
       "      <td>Sorry, I'll call later</td>\n",
       "    </tr>\n",
       "    <tr>\n",
       "      <th>...</th>\n",
       "      <td>...</td>\n",
       "      <td>...</td>\n",
       "    </tr>\n",
       "    <tr>\n",
       "      <th>3338</th>\n",
       "      <td>1</td>\n",
       "      <td>FreeMsg Hey U, i just got 1 of these video/pic...</td>\n",
       "    </tr>\n",
       "    <tr>\n",
       "      <th>3339</th>\n",
       "      <td>0</td>\n",
       "      <td>Cab is available.they pick up and drop at door...</td>\n",
       "    </tr>\n",
       "    <tr>\n",
       "      <th>3340</th>\n",
       "      <td>0</td>\n",
       "      <td>Omg you can make a wedding chapel in frontierv...</td>\n",
       "    </tr>\n",
       "    <tr>\n",
       "      <th>3341</th>\n",
       "      <td>0</td>\n",
       "      <td>Storming msg: Wen u lift d phne, u say \"HELLO\"...</td>\n",
       "    </tr>\n",
       "    <tr>\n",
       "      <th>3342</th>\n",
       "      <td>0</td>\n",
       "      <td>Dunno y u ask me.</td>\n",
       "    </tr>\n",
       "  </tbody>\n",
       "</table>\n",
       "<p>3343 rows × 2 columns</p>\n",
       "</div>"
      ],
      "text/plain": [
       "      label                                            message\n",
       "0         0  Hey!!! I almost forgot ... Happy B-day babe ! ...\n",
       "1         0        Pls confirm the time to collect the cheque.\n",
       "2         0                         Just sleeping..and surfing\n",
       "3         1  Dear Dave this is your final notice to collect...\n",
       "4         0                             Sorry, I'll call later\n",
       "...     ...                                                ...\n",
       "3338      1  FreeMsg Hey U, i just got 1 of these video/pic...\n",
       "3339      0  Cab is available.they pick up and drop at door...\n",
       "3340      0  Omg you can make a wedding chapel in frontierv...\n",
       "3341      0  Storming msg: Wen u lift d phne, u say \"HELLO\"...\n",
       "3342      0                                  Dunno y u ask me.\n",
       "\n",
       "[3343 rows x 2 columns]"
      ]
     },
     "execution_count": 7,
     "metadata": {},
     "output_type": "execute_result"
    }
   ],
   "source": [
    "train_df"
   ]
  },
  {
   "cell_type": "code",
   "execution_count": 8,
   "metadata": {},
   "outputs": [
    {
     "data": {
      "text/html": [
       "<div>\n",
       "<style scoped>\n",
       "    .dataframe tbody tr th:only-of-type {\n",
       "        vertical-align: middle;\n",
       "    }\n",
       "\n",
       "    .dataframe tbody tr th {\n",
       "        vertical-align: top;\n",
       "    }\n",
       "\n",
       "    .dataframe thead th {\n",
       "        text-align: right;\n",
       "    }\n",
       "</style>\n",
       "<table border=\"1\" class=\"dataframe\">\n",
       "  <thead>\n",
       "    <tr style=\"text-align: right;\">\n",
       "      <th></th>\n",
       "      <th>label</th>\n",
       "      <th>message</th>\n",
       "    </tr>\n",
       "  </thead>\n",
       "  <tbody>\n",
       "    <tr>\n",
       "      <th>0</th>\n",
       "      <td>0</td>\n",
       "      <td>K, my roommate also wants a dubsack and anothe...</td>\n",
       "    </tr>\n",
       "    <tr>\n",
       "      <th>1</th>\n",
       "      <td>0</td>\n",
       "      <td>Fuck babe, I miss you sooooo much !! I wish yo...</td>\n",
       "    </tr>\n",
       "    <tr>\n",
       "      <th>2</th>\n",
       "      <td>1</td>\n",
       "      <td>You are a winner U have been specially selecte...</td>\n",
       "    </tr>\n",
       "    <tr>\n",
       "      <th>3</th>\n",
       "      <td>0</td>\n",
       "      <td>Waaaat?? Lololo ok next time then!</td>\n",
       "    </tr>\n",
       "    <tr>\n",
       "      <th>4</th>\n",
       "      <td>0</td>\n",
       "      <td>I like cheap! But iâm happy to splash out on...</td>\n",
       "    </tr>\n",
       "    <tr>\n",
       "      <th>...</th>\n",
       "      <td>...</td>\n",
       "      <td>...</td>\n",
       "    </tr>\n",
       "    <tr>\n",
       "      <th>1388</th>\n",
       "      <td>0</td>\n",
       "      <td>Just wondering, the others just took off</td>\n",
       "    </tr>\n",
       "    <tr>\n",
       "      <th>1389</th>\n",
       "      <td>0</td>\n",
       "      <td>I HAVE A DATE ON SUNDAY WITH WILL!!</td>\n",
       "    </tr>\n",
       "    <tr>\n",
       "      <th>1390</th>\n",
       "      <td>0</td>\n",
       "      <td>Forgot to tell Ã¼ smth.. Can Ã¼ like number th...</td>\n",
       "    </tr>\n",
       "    <tr>\n",
       "      <th>1391</th>\n",
       "      <td>0</td>\n",
       "      <td>How stupid to say that i challenge god.You don...</td>\n",
       "    </tr>\n",
       "    <tr>\n",
       "      <th>1392</th>\n",
       "      <td>0</td>\n",
       "      <td>Ugh my leg hurts. Musta overdid it on mon.</td>\n",
       "    </tr>\n",
       "  </tbody>\n",
       "</table>\n",
       "<p>1393 rows × 2 columns</p>\n",
       "</div>"
      ],
      "text/plain": [
       "      label                                            message\n",
       "0         0  K, my roommate also wants a dubsack and anothe...\n",
       "1         0  Fuck babe, I miss you sooooo much !! I wish yo...\n",
       "2         1  You are a winner U have been specially selecte...\n",
       "3         0                 Waaaat?? Lololo ok next time then!\n",
       "4         0  I like cheap! But iâm happy to splash out on...\n",
       "...     ...                                                ...\n",
       "1388      0           Just wondering, the others just took off\n",
       "1389      0                I HAVE A DATE ON SUNDAY WITH WILL!!\n",
       "1390      0  Forgot to tell Ã¼ smth.. Can Ã¼ like number th...\n",
       "1391      0  How stupid to say that i challenge god.You don...\n",
       "1392      0         Ugh my leg hurts. Musta overdid it on mon.\n",
       "\n",
       "[1393 rows x 2 columns]"
      ]
     },
     "execution_count": 8,
     "metadata": {},
     "output_type": "execute_result"
    }
   ],
   "source": [
    "val_df"
   ]
  },
  {
   "cell_type": "code",
   "execution_count": 9,
   "metadata": {},
   "outputs": [
    {
     "data": {
      "text/html": [
       "<div>\n",
       "<style scoped>\n",
       "    .dataframe tbody tr th:only-of-type {\n",
       "        vertical-align: middle;\n",
       "    }\n",
       "\n",
       "    .dataframe tbody tr th {\n",
       "        vertical-align: top;\n",
       "    }\n",
       "\n",
       "    .dataframe thead th {\n",
       "        text-align: right;\n",
       "    }\n",
       "</style>\n",
       "<table border=\"1\" class=\"dataframe\">\n",
       "  <thead>\n",
       "    <tr style=\"text-align: right;\">\n",
       "      <th></th>\n",
       "      <th>label</th>\n",
       "      <th>message</th>\n",
       "    </tr>\n",
       "  </thead>\n",
       "  <tbody>\n",
       "    <tr>\n",
       "      <th>0</th>\n",
       "      <td>0</td>\n",
       "      <td>What not under standing.</td>\n",
       "    </tr>\n",
       "    <tr>\n",
       "      <th>1</th>\n",
       "      <td>0</td>\n",
       "      <td>Anything lor if they all go then i go lor...</td>\n",
       "    </tr>\n",
       "    <tr>\n",
       "      <th>2</th>\n",
       "      <td>1</td>\n",
       "      <td>CALL 09090900040 &amp; LISTEN TO EXTREME DIRTY LIV...</td>\n",
       "    </tr>\n",
       "    <tr>\n",
       "      <th>3</th>\n",
       "      <td>0</td>\n",
       "      <td>Ffffffffff. Alright no way I can meet up with ...</td>\n",
       "    </tr>\n",
       "    <tr>\n",
       "      <th>4</th>\n",
       "      <td>1</td>\n",
       "      <td>Free msg: Single? Find a partner in your area!...</td>\n",
       "    </tr>\n",
       "    <tr>\n",
       "      <th>...</th>\n",
       "      <td>...</td>\n",
       "      <td>...</td>\n",
       "    </tr>\n",
       "    <tr>\n",
       "      <th>831</th>\n",
       "      <td>0</td>\n",
       "      <td>Hey gals.. Anyone of u going down to e driving...</td>\n",
       "    </tr>\n",
       "    <tr>\n",
       "      <th>832</th>\n",
       "      <td>1</td>\n",
       "      <td>Don't b floppy... b snappy &amp; happy! Only gay c...</td>\n",
       "    </tr>\n",
       "    <tr>\n",
       "      <th>833</th>\n",
       "      <td>0</td>\n",
       "      <td>As in different styles?</td>\n",
       "    </tr>\n",
       "    <tr>\n",
       "      <th>834</th>\n",
       "      <td>0</td>\n",
       "      <td>Same, I'm at my great aunts anniversary party ...</td>\n",
       "    </tr>\n",
       "    <tr>\n",
       "      <th>835</th>\n",
       "      <td>0</td>\n",
       "      <td>Yeah you should. I think you can use your gt a...</td>\n",
       "    </tr>\n",
       "  </tbody>\n",
       "</table>\n",
       "<p>836 rows × 2 columns</p>\n",
       "</div>"
      ],
      "text/plain": [
       "     label                                            message\n",
       "0        0                           What not under standing.\n",
       "1        0       Anything lor if they all go then i go lor...\n",
       "2        1  CALL 09090900040 & LISTEN TO EXTREME DIRTY LIV...\n",
       "3        0  Ffffffffff. Alright no way I can meet up with ...\n",
       "4        1  Free msg: Single? Find a partner in your area!...\n",
       "..     ...                                                ...\n",
       "831      0  Hey gals.. Anyone of u going down to e driving...\n",
       "832      1  Don't b floppy... b snappy & happy! Only gay c...\n",
       "833      0                            As in different styles?\n",
       "834      0  Same, I'm at my great aunts anniversary party ...\n",
       "835      0  Yeah you should. I think you can use your gt a...\n",
       "\n",
       "[836 rows x 2 columns]"
      ]
     },
     "execution_count": 9,
     "metadata": {},
     "output_type": "execute_result"
    }
   ],
   "source": [
    "test_df"
   ]
  },
  {
   "cell_type": "code",
   "execution_count": 10,
   "metadata": {},
   "outputs": [],
   "source": [
    "# Function to preprocess data\n",
    "def preprocess_text(text):\n",
    "    text = text.lower()\n",
    "    text = re.sub(r'[^a-zA-Z\\s]', '', text)\n",
    "    tokens = word_tokenize(text)\n",
    "    tokens = [token for token in tokens if token not in stop_words]\n",
    "    lemmatizer = WordNetLemmatizer()\n",
    "    tokens = [lemmatizer.lemmatize(token) for token in tokens]\n",
    "    \n",
    "    return ' '.join(tokens)"
   ]
  },
  {
   "cell_type": "code",
   "execution_count": 11,
   "metadata": {},
   "outputs": [],
   "source": [
    "\n",
    "def prepare_data(data):\n",
    "    data['processed_message'] = data['message'].apply(preprocess_text)\n",
    "    # Extract messages and labels\n",
    "    messages = data['processed_message'].values\n",
    "    labels = data['label'].values\n",
    "    \n",
    "    return messages, labels"
   ]
  },
  {
   "cell_type": "code",
   "execution_count": 12,
   "metadata": {},
   "outputs": [],
   "source": [
    "# Prepare the data\n",
    "X_train, y_train = prepare_data(train_df)\n",
    "X_val, y_val = prepare_data(val_df)\n",
    "X_test, y_test = prepare_data(test_df)"
   ]
  },
  {
   "cell_type": "code",
   "execution_count": 13,
   "metadata": {},
   "outputs": [
    {
     "name": "stdout",
     "output_type": "stream",
     "text": [
      "Data distribution:\n",
      "Train data: 3343 samples, 431 spam, 2912 ham\n",
      "Validation data: 1393 samples, 193 spam, 1200 ham\n",
      "Test data: 836 samples, 123 spam, 713 ham\n"
     ]
    }
   ],
   "source": [
    "# Print distribution of target variable\n",
    "print(\"Data distribution:\")\n",
    "print(f\"Train data: {len(y_train)} samples, {sum(y_train)} spam, {len(y_train) - sum(y_train)} ham\")\n",
    "print(f\"Validation data: {len(y_val)} samples, {sum(y_val)} spam, {len(y_val) - sum(y_val)} ham\")\n",
    "print(f\"Test data: {len(y_test)} samples, {sum(y_test)} spam, {len(y_test) - sum(y_test)} ham\")"
   ]
  },
  {
   "cell_type": "code",
   "execution_count": 14,
   "metadata": {},
   "outputs": [],
   "source": [
    "# Function to calculate AUCPR\n",
    "def calculate_aucpr(model, X, y):\n",
    "    y_scores = model.predict_proba(X)[:, 1]\n",
    "    precision, recall, _ = precision_recall_curve(y, y_scores)\n",
    "    aucpr = auc(recall, precision)\n",
    "    return aucpr"
   ]
  },
  {
   "cell_type": "code",
   "execution_count": null,
   "metadata": {},
   "outputs": [],
   "source": [
    "# Function to evaluate and log the models\n",
    "def evaluate_and_log_model(model_name, pipeline, run_name=None):\n",
    "    # Start MLflow run\n",
    "    with mlflow.start_run(run_name=run_name):\n",
    "        # Log the model parameters\n",
    "        model_params = pipeline.named_steps[model_name].get_params()\n",
    "        for param_name, param_value in model_params.items():\n",
    "            mlflow.log_param(f\"{model_name}_{param_name}\", param_value)\n",
    "        \n",
    "        # Train the model\n",
    "        pipeline.fit(X_train, y_train)\n",
    "        \n",
    "        # Evaluate the model\n",
    "        train_accuracy = accuracy_score(y_train, pipeline.predict(X_train))\n",
    "        val_accuracy = accuracy_score(y_val, pipeline.predict(X_val))\n",
    "        test_accuracy = accuracy_score(y_test, pipeline.predict(X_test))\n",
    "        \n",
    "        # Calculate AUCPR\n",
    "        train_aucpr = calculate_aucpr(pipeline, X_train, y_train)\n",
    "        val_aucpr = calculate_aucpr(pipeline, X_val, y_val)\n",
    "        test_aucpr = calculate_aucpr(pipeline, X_test, y_test)\n",
    "        \n",
    "        # Log metrics\n",
    "        mlflow.log_metric(\"train_accuracy\", train_accuracy)\n",
    "        mlflow.log_metric(\"val_accuracy\", val_accuracy)\n",
    "        mlflow.log_metric(\"test_accuracy\", test_accuracy)\n",
    "        mlflow.log_metric(\"train_aucpr\", train_aucpr)\n",
    "        mlflow.log_metric(\"val_aucpr\", val_aucpr)\n",
    "        mlflow.log_metric(\"test_aucpr\", test_aucpr)\n",
    "        \n",
    "        # Generate and log classification report\n",
    "        val_report = classification_report(y_val, pipeline.predict(X_val))\n",
    "        with open(\"classification_report.txt\", \"w\") as f:\n",
    "            f.write(val_report)\n",
    "        mlflow.log_artifact(\"classification_report.txt\")\n",
    "        \n",
    "        # Create and log PR curve figure\n",
    "        plt.figure(figsize=(10, 6))\n",
    "        y_scores = pipeline.predict_proba(X_val)[:, 1]\n",
    "        precision, recall, _ = precision_recall_curve(y_val, y_scores)\n",
    "        plt.plot(recall, precision, label=f'AUCPR = {val_aucpr:.3f}')\n",
    "        plt.xlabel('Recall')\n",
    "        plt.ylabel('Precision')\n",
    "        plt.title(f'Precision-Recall Curve - {model_name}')\n",
    "        plt.legend()\n",
    "        plt.savefig(\"pr_curve.png\")\n",
    "        mlflow.log_artifact(\"pr_curve.png\")\n",
    "        \n",
    "        # Register the model\n",
    "        mlflow.sklearn.log_model(\n",
    "            pipeline, \n",
    "            \"model\",\n",
    "            registered_model_name=model_name,\n",
    "            input_example=X_train[:1]\n",
    "        )\n",
    "        \n",
    "        # Print results\n",
    "        print(f\"Model: {model_name}\")\n",
    "        print(f\"Train Accuracy: {train_accuracy:.4f}\")\n",
    "        print(f\"Validation Accuracy: {val_accuracy:.4f}\")\n",
    "        print(f\"Test Accuracy: {test_accuracy:.4f}\")\n",
    "        print(f\"Train AUCPR: {train_aucpr:.4f}\")\n",
    "        print(f\"Validation AUCPR: {val_aucpr:.4f}\")\n",
    "        print(f\"Test AUCPR: {test_aucpr:.4f}\")\n",
    "        print(\"Classification Report:\")\n",
    "        print(val_report)\n",
    "        print(\"\\n\")\n",
    "        \n",
    "    return pipeline"
   ]
  },
  {
   "cell_type": "markdown",
   "metadata": {},
   "source": [
    "#### Building and evaluating models..."
   ]
  },
  {
   "cell_type": "code",
   "execution_count": 20,
   "metadata": {},
   "outputs": [
    {
     "name": "stderr",
     "output_type": "stream",
     "text": [
      "Downloading artifacts: 100%|██████████| 7/7 [00:00<00:00, 1350.26it/s] \n",
      "Registered model 'nb' already exists. Creating a new version of this model...\n"
     ]
    },
    {
     "name": "stdout",
     "output_type": "stream",
     "text": [
      "Model: nb\n",
      "Train Accuracy: 0.9779\n",
      "Validation Accuracy: 0.9555\n",
      "Test Accuracy: 0.9629\n",
      "Train AUCPR: 0.9792\n",
      "Validation AUCPR: 0.9456\n",
      "Test AUCPR: 0.9520\n",
      "Classification Report:\n",
      "              precision    recall  f1-score   support\n",
      "\n",
      "           0       0.95      1.00      0.97      1200\n",
      "           1       1.00      0.68      0.81       193\n",
      "\n",
      "    accuracy                           0.96      1393\n",
      "   macro avg       0.98      0.84      0.89      1393\n",
      "weighted avg       0.96      0.96      0.95      1393\n",
      "\n",
      "\n",
      "\n"
     ]
    },
    {
     "name": "stderr",
     "output_type": "stream",
     "text": [
      "Created version '3' of model 'nb'.\n"
     ]
    },
    {
     "data": {
      "image/png": "[encoded data removed]",
      "text/plain": [
       "<Figure size 1000x600 with 1 Axes>"
      ]
     },
     "metadata": {},
     "output_type": "display_data"
    }
   ],
   "source": [
    "# 1. Naive Bayes\n",
    "nb_pipeline = Pipeline([\n",
    "    ('tfidf', TfidfVectorizer(max_features=5000, ngram_range=(1, 2))),\n",
    "    ('nb', MultinomialNB())\n",
    "])\n",
    "nb_model = evaluate_and_log_model('nb', nb_pipeline, run_name=\"Naive Bayes\")"
   ]
  },
  {
   "cell_type": "code",
   "execution_count": 21,
   "metadata": {},
   "outputs": [
    {
     "name": "stderr",
     "output_type": "stream",
     "text": [
      "Downloading artifacts: 100%|██████████| 7/7 [00:00<00:00, 1792.22it/s] \n",
      "Successfully registered model 'logreg'.\n",
      "Created version '1' of model 'logreg'.\n"
     ]
    },
    {
     "name": "stdout",
     "output_type": "stream",
     "text": [
      "Model: logreg\n",
      "Train Accuracy: 0.9662\n",
      "Validation Accuracy: 0.9526\n",
      "Test Accuracy: 0.9581\n",
      "Train AUCPR: 0.9850\n",
      "Validation AUCPR: 0.9275\n",
      "Test AUCPR: 0.9570\n",
      "Classification Report:\n",
      "              precision    recall  f1-score   support\n",
      "\n",
      "           0       0.95      1.00      0.97      1200\n",
      "           1       0.98      0.67      0.80       193\n",
      "\n",
      "    accuracy                           0.95      1393\n",
      "   macro avg       0.97      0.83      0.88      1393\n",
      "weighted avg       0.95      0.95      0.95      1393\n",
      "\n",
      "\n",
      "\n"
     ]
    },
    {
     "data": {
      "image/png": "[encoded data removed]",
      "text/plain": [
       "<Figure size 1000x600 with 1 Axes>"
      ]
     },
     "metadata": {},
     "output_type": "display_data"
    }
   ],
   "source": [
    "# 2. Logistic Regression\n",
    "lr_pipeline = Pipeline([\n",
    "    ('tfidf', TfidfVectorizer(max_features=5000, ngram_range=(1, 2))),\n",
    "    ('logreg', LogisticRegression(max_iter=1000, random_state=42))\n",
    "])\n",
    "lr_model = evaluate_and_log_model('logreg', lr_pipeline, run_name=\"Logistic Regression\")"
   ]
  },
  {
   "cell_type": "code",
   "execution_count": 22,
   "metadata": {},
   "outputs": [
    {
     "name": "stderr",
     "output_type": "stream",
     "text": [
      "Downloading artifacts: 100%|██████████| 7/7 [00:00<00:00, 1179.36it/s] \n",
      "Successfully registered model 'rf'.\n"
     ]
    },
    {
     "name": "stdout",
     "output_type": "stream",
     "text": [
      "Model: rf\n",
      "Train Accuracy: 0.9997\n",
      "Validation Accuracy: 0.9663\n",
      "Test Accuracy: 0.9773\n",
      "Train AUCPR: 0.9992\n",
      "Validation AUCPR: 0.9560\n",
      "Test AUCPR: 0.9504\n",
      "Classification Report:\n",
      "              precision    recall  f1-score   support\n",
      "\n",
      "           0       0.96      1.00      0.98      1200\n",
      "           1       1.00      0.76      0.86       193\n",
      "\n",
      "    accuracy                           0.97      1393\n",
      "   macro avg       0.98      0.88      0.92      1393\n",
      "weighted avg       0.97      0.97      0.96      1393\n",
      "\n",
      "\n",
      "\n"
     ]
    },
    {
     "name": "stderr",
     "output_type": "stream",
     "text": [
      "Created version '1' of model 'rf'.\n"
     ]
    },
    {
     "data": {
      "image/png": "[encoded data removed]",
      "text/plain": [
       "<Figure size 1000x600 with 1 Axes>"
      ]
     },
     "metadata": {},
     "output_type": "display_data"
    }
   ],
   "source": [
    "# 3. Random Forest\n",
    "rf_pipeline = Pipeline([\n",
    "    ('tfidf', TfidfVectorizer(max_features=5000, ngram_range=(1, 2))),\n",
    "    ('rf', RandomForestClassifier(n_estimators=100, random_state=42))\n",
    "])\n",
    "rf_model = evaluate_and_log_model('rf', rf_pipeline, run_name=\"Random Forest\")"
   ]
  },
  {
   "cell_type": "code",
   "execution_count": 23,
   "metadata": {},
   "outputs": [],
   "source": [
    "# Retrieve and compare model metrics\n",
    "client = mlflow.tracking.MlflowClient()"
   ]
  },
  {
   "cell_type": "code",
   "execution_count": 24,
   "metadata": {},
   "outputs": [],
   "source": [
    "# Fetch the most recent version of each model\n",
    "models = [\"logreg\", \"nb\", \"rf\"]\n",
    "latest_versions = {}"
   ]
  },
  {
   "cell_type": "code",
   "execution_count": 25,
   "metadata": {},
   "outputs": [
    {
     "name": "stdout",
     "output_type": "stream",
     "text": [
      "\n",
      "Model comparison (AUCPR on validation set):\n",
      "--------------------------------------------------\n",
      "logreg (version 1): AUCPR = 0.9275\n",
      "nb (version 3): AUCPR = 0.9456\n",
      "rf (version 1): AUCPR = 0.9560\n"
     ]
    }
   ],
   "source": [
    "print(\"\\nModel comparison (AUCPR on validation set):\")\n",
    "print(\"-\" * 50)\n",
    "\n",
    "for model_name in models:\n",
    "    versions = client.get_latest_versions(model_name, stages=[\"None\"])\n",
    "    if versions:\n",
    "        latest_version = versions[0]\n",
    "        latest_versions[model_name] = latest_version.version\n",
    "        \n",
    "        # Get run info\n",
    "        run = client.get_run(latest_version.run_id)\n",
    "        val_aucpr = run.data.metrics.get(\"val_aucpr\", 0.0)\n",
    "        \n",
    "        print(f\"{model_name} (version {latest_version.version}): AUCPR = {val_aucpr:.4f}\")\n"
   ]
  },
  {
   "cell_type": "code",
   "execution_count": 26,
   "metadata": {},
   "outputs": [],
   "source": [
    "# Identify the best model\n",
    "best_model = None\n",
    "best_aucpr = 0.0"
   ]
  },
  {
   "cell_type": "code",
   "execution_count": 27,
   "metadata": {},
   "outputs": [],
   "source": [
    "for model_name in models:\n",
    "    versions = client.get_latest_versions(model_name, stages=[\"None\"])\n",
    "    if versions:\n",
    "        run = client.get_run(versions[0].run_id)\n",
    "        val_aucpr = run.data.metrics.get(\"val_aucpr\", 0.0)\n",
    "        \n",
    "        if val_aucpr > best_aucpr:\n",
    "            best_aucpr = val_aucpr\n",
    "            best_model = model_name"
   ]
  },
  {
   "cell_type": "code",
   "execution_count": 28,
   "metadata": {},
   "outputs": [
    {
     "name": "stdout",
     "output_type": "stream",
     "text": [
      "\n",
      "Best model based on validation AUCPR: rf with AUCPR = 0.9560\n"
     ]
    }
   ],
   "source": [
    "print(f\"\\nBest model based on validation AUCPR: {best_model} with AUCPR = {best_aucpr:.4f}\")"
   ]
  },
  {
   "cell_type": "code",
   "execution_count": 29,
   "metadata": {},
   "outputs": [
    {
     "name": "stdout",
     "output_type": "stream",
     "text": [
      "Model rf (version 1) has been promoted to Production.\n"
     ]
    }
   ],
   "source": [
    "# Optional: Promote the best model to production\n",
    "if best_model:\n",
    "    client.transition_model_version_stage(\n",
    "        name=best_model,\n",
    "        version=latest_versions[best_model],\n",
    "        stage=\"Production\"\n",
    "    )\n",
    "    print(f\"Model {best_model} (version {latest_versions[best_model]}) has been promoted to Production.\")"
   ]
  },
  {
   "cell_type": "code",
   "execution_count": 30,
   "metadata": {},
   "outputs": [
    {
     "name": "stdout",
     "output_type": "stream",
     "text": [
      "\n",
      "MLflow tracking URI: file:./mlruns\n",
      "Experiment ID: 130972181796319339\n",
      "Models have been tracked and registered. You can view the results in the MLflow UI.\n"
     ]
    }
   ],
   "source": [
    "print(\"\\nMLflow tracking URI:\", mlflow.get_tracking_uri())\n",
    "print(\"Experiment ID:\", mlflow.get_experiment_by_name(experiment_name).experiment_id)\n",
    "print(\"Models have been tracked and registered. You can view the results in the MLflow UI.\")"
   ]
  },
  {
   "cell_type": "code",
   "execution_count": null,
   "metadata": {},
   "outputs": [],
   "source": []
  }
 ],
 "metadata": {
  "kernelspec": {
   "display_name": "aml",
   "language": "python",
   "name": "python3"
  },
  "language_info": {
   "codemirror_mode": {
    "name": "ipython",
    "version": 3
   },
   "file_extension": ".py",
   "mimetype": "text/x-python",
   "name": "python",
   "nbconvert_exporter": "python",
   "pygments_lexer": "ipython3",
   "version": "3.13.2"
  }
 },
 "nbformat": 4,
 "nbformat_minor": 2
}
