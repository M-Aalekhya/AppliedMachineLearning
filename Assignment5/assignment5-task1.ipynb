{
 "cells": [
  {
   "cell_type": "code",
   "execution_count": 24,
   "metadata": {
    "execution": {
     "iopub.execute_input": "2025-04-19T11:27:26.645175Z",
     "iopub.status.busy": "2025-04-19T11:27:26.644898Z",
     "iopub.status.idle": "2025-04-19T11:27:26.649996Z",
     "shell.execute_reply": "2025-04-19T11:27:26.649111Z",
     "shell.execute_reply.started": "2025-04-19T11:27:26.645158Z"
    },
    "trusted": true
   },
   "outputs": [],
   "source": [
    "import os\n",
    "import shutil\n",
    "import random\n",
    "from pathlib import Path\n",
    "\n",
    "import numpy as np\n",
    "from sklearn.metrics import classification_report\n",
    "from torchvision import datasets, models, transforms\n",
    "import torch\n",
    "from torch.utils.data import DataLoader\n",
    "import torch.nn as nn\n",
    "import torch.optim as optim\n",
    "import matplotlib.pyplot as plt\n"
   ]
  },
  {
   "cell_type": "code",
   "execution_count": 25,
   "metadata": {
    "execution": {
     "iopub.execute_input": "2025-04-19T11:27:26.651737Z",
     "iopub.status.busy": "2025-04-19T11:27:26.651283Z",
     "iopub.status.idle": "2025-04-19T11:27:26.671588Z",
     "shell.execute_reply": "2025-04-19T11:27:26.670991Z",
     "shell.execute_reply.started": "2025-04-19T11:27:26.651713Z"
    },
    "trusted": true
   },
   "outputs": [
    {
     "data": {
      "text/plain": [
       "device(type='cuda')"
      ]
     },
     "execution_count": 25,
     "metadata": {},
     "output_type": "execute_result"
    }
   ],
   "source": [
    "# Set device\n",
    "device = torch.device(\"cuda\" if torch.cuda.is_available() else \"cpu\")\n",
    "device"
   ]
  },
  {
   "cell_type": "markdown",
   "metadata": {},
   "source": [
    "## Task 1"
   ]
  },
  {
   "cell_type": "code",
   "execution_count": 30,
   "metadata": {
    "execution": {
     "iopub.execute_input": "2025-04-19T11:27:28.009665Z",
     "iopub.status.busy": "2025-04-19T11:27:28.009418Z",
     "iopub.status.idle": "2025-04-19T11:27:28.013360Z",
     "shell.execute_reply": "2025-04-19T11:27:28.012588Z",
     "shell.execute_reply.started": "2025-04-19T11:27:28.009648Z"
    },
    "trusted": true
   },
   "outputs": [],
   "source": [
    "train_dir = \"/kaggle/working/train\"\n",
    "val_dir = \"/kaggle/working/val\"\n",
    "test_dir = \"/kaggle/working/test\"\n",
    "classes = [\"duck\", \"chicken\"]"
   ]
  },
  {
   "cell_type": "code",
   "execution_count": 31,
   "metadata": {
    "execution": {
     "iopub.execute_input": "2025-04-19T11:27:28.014448Z",
     "iopub.status.busy": "2025-04-19T11:27:28.014204Z",
     "iopub.status.idle": "2025-04-19T11:27:28.026453Z",
     "shell.execute_reply": "2025-04-19T11:27:28.025917Z",
     "shell.execute_reply.started": "2025-04-19T11:27:28.014428Z"
    },
    "trusted": true
   },
   "outputs": [],
   "source": [
    "# Create directories\n",
    "for split in [train_dir, val_dir, test_dir]:\n",
    "    for cls in classes:\n",
    "        os.makedirs(os.path.join(split, cls), exist_ok=True)"
   ]
  },
  {
   "cell_type": "code",
   "execution_count": 32,
   "metadata": {
    "execution": {
     "iopub.execute_input": "2025-04-19T11:27:28.028992Z",
     "iopub.status.busy": "2025-04-19T11:27:28.028762Z",
     "iopub.status.idle": "2025-04-19T11:27:28.088252Z",
     "shell.execute_reply": "2025-04-19T11:27:28.087715Z",
     "shell.execute_reply.started": "2025-04-19T11:27:28.028977Z"
    },
    "trusted": true
   },
   "outputs": [],
   "source": [
    "# Split data: 70% train, 15% val, 15% test\n",
    "split_ratio = [0.8, 0.1, 0.1]\n",
    "for cls in classes:\n",
    "    src_folder = os.path.join(\"/kaggle/working\", cls)\n",
    "    images = os.listdir(src_folder)\n",
    "    random.shuffle(images)\n",
    "    n_total = len(images)\n",
    "    n_train = int(n_total * split_ratio[0])\n",
    "    n_val = int(n_total * split_ratio[1])\n",
    "\n",
    "    for i, img in enumerate(images):\n",
    "        if i < n_train:\n",
    "            dst = os.path.join(train_dir, cls, img)\n",
    "        elif i < n_train + n_val:\n",
    "            dst = os.path.join(val_dir, cls, img)\n",
    "        else:\n",
    "            dst = os.path.join(test_dir, cls, img)\n",
    "        shutil.copy(os.path.join(src_folder, img), dst)"
   ]
  },
  {
   "cell_type": "code",
   "execution_count": 33,
   "metadata": {
    "execution": {
     "iopub.execute_input": "2025-04-19T11:27:28.089322Z",
     "iopub.status.busy": "2025-04-19T11:27:28.089011Z",
     "iopub.status.idle": "2025-04-19T11:27:28.094817Z",
     "shell.execute_reply": "2025-04-19T11:27:28.093936Z",
     "shell.execute_reply.started": "2025-04-19T11:27:28.089300Z"
    },
    "trusted": true
   },
   "outputs": [],
   "source": [
    "# Define transformations\n",
    "transform = {\n",
    "    \"train\": transforms.Compose([\n",
    "        transforms.Resize((224, 224)),\n",
    "        # transforms.RandomHorizontalFlip(),\n",
    "        transforms.ToTensor(),\n",
    "        transforms.Normalize([0.485, 0.456, 0.406],\n",
    "                             [0.229, 0.224, 0.225])\n",
    "    ]),\n",
    "    \"val\": transforms.Compose([\n",
    "        transforms.Resize((224, 224)),\n",
    "        transforms.ToTensor(),\n",
    "        transforms.Normalize([0.485, 0.456, 0.406],\n",
    "                             [0.229, 0.224, 0.225])\n",
    "    ]),\n",
    "    \"test\": transforms.Compose([\n",
    "        transforms.Resize((224, 224)),\n",
    "        transforms.ToTensor(),\n",
    "        transforms.Normalize([0.485, 0.456, 0.406],\n",
    "                             [0.229, 0.224, 0.225])\n",
    "    ])\n",
    "}"
   ]
  },
  {
   "cell_type": "code",
   "execution_count": 34,
   "metadata": {
    "execution": {
     "iopub.execute_input": "2025-04-19T11:27:28.095622Z",
     "iopub.status.busy": "2025-04-19T11:27:28.095420Z",
     "iopub.status.idle": "2025-04-19T11:27:28.110357Z",
     "shell.execute_reply": "2025-04-19T11:27:28.109743Z",
     "shell.execute_reply.started": "2025-04-19T11:27:28.095605Z"
    },
    "trusted": true
   },
   "outputs": [],
   "source": [
    "# Load datasets\n",
    "image_datasets = {\n",
    "    x: datasets.ImageFolder(os.path.join(\"/kaggle/working\", x), transform[x])\n",
    "    for x in ['train', 'val', 'test']\n",
    "}"
   ]
  },
  {
   "cell_type": "code",
   "execution_count": 35,
   "metadata": {
    "execution": {
     "iopub.execute_input": "2025-04-19T11:27:28.111129Z",
     "iopub.status.busy": "2025-04-19T11:27:28.110973Z",
     "iopub.status.idle": "2025-04-19T11:27:28.121149Z",
     "shell.execute_reply": "2025-04-19T11:27:28.120544Z",
     "shell.execute_reply.started": "2025-04-19T11:27:28.111116Z"
    },
    "trusted": true
   },
   "outputs": [],
   "source": [
    "dataloaders = {\n",
    "    x: DataLoader(image_datasets[x], batch_size=16, shuffle=True, num_workers=2)\n",
    "    for x in ['train', 'val', 'test']\n",
    "}"
   ]
  },
  {
   "cell_type": "code",
   "execution_count": 36,
   "metadata": {
    "execution": {
     "iopub.execute_input": "2025-04-19T11:27:28.121921Z",
     "iopub.status.busy": "2025-04-19T11:27:28.121730Z",
     "iopub.status.idle": "2025-04-19T11:27:28.134045Z",
     "shell.execute_reply": "2025-04-19T11:27:28.133359Z",
     "shell.execute_reply.started": "2025-04-19T11:27:28.121907Z"
    },
    "trusted": true
   },
   "outputs": [],
   "source": [
    "class_names = image_datasets['train'].classes"
   ]
  },
  {
   "cell_type": "code",
   "execution_count": 37,
   "metadata": {
    "execution": {
     "iopub.execute_input": "2025-04-19T11:27:28.135045Z",
     "iopub.status.busy": "2025-04-19T11:27:28.134771Z",
     "iopub.status.idle": "2025-04-19T11:27:28.387240Z",
     "shell.execute_reply": "2025-04-19T11:27:28.386698Z",
     "shell.execute_reply.started": "2025-04-19T11:27:28.135023Z"
    },
    "trusted": true
   },
   "outputs": [
    {
     "name": "stderr",
     "output_type": "stream",
     "text": [
      "/usr/local/lib/python3.11/dist-packages/torchvision/models/_utils.py:208: UserWarning: The parameter 'pretrained' is deprecated since 0.13 and may be removed in the future, please use 'weights' instead.\n",
      "  warnings.warn(\n",
      "/usr/local/lib/python3.11/dist-packages/torchvision/models/_utils.py:223: UserWarning: Arguments other than a weight enum or `None` for 'weights' are deprecated since 0.13 and may be removed in the future. The current behavior is equivalent to passing `weights=ResNet18_Weights.IMAGENET1K_V1`. You can also use `weights=ResNet18_Weights.DEFAULT` to get the most up-to-date weights.\n",
      "  warnings.warn(msg)\n"
     ]
    }
   ],
   "source": [
    "# Load pre-trained model and modify\n",
    "model = models.resnet18(pretrained=True)\n",
    "num_ftrs = model.fc.in_features\n",
    "model.fc = nn.Linear(num_ftrs, 2)  # 2 classes: duck & chicken\n",
    "model = model.to(device)"
   ]
  },
  {
   "cell_type": "code",
   "execution_count": 38,
   "metadata": {
    "execution": {
     "iopub.execute_input": "2025-04-19T11:27:28.388033Z",
     "iopub.status.busy": "2025-04-19T11:27:28.387860Z",
     "iopub.status.idle": "2025-04-19T11:27:28.393379Z",
     "shell.execute_reply": "2025-04-19T11:27:28.392641Z",
     "shell.execute_reply.started": "2025-04-19T11:27:28.388020Z"
    },
    "trusted": true
   },
   "outputs": [],
   "source": [
    "# Define loss and optimizer\n",
    "criterion = nn.CrossEntropyLoss()\n",
    "optimizer = optim.Adam(model.parameters(), lr=0.001)"
   ]
  },
  {
   "cell_type": "code",
   "execution_count": 39,
   "metadata": {
    "execution": {
     "iopub.execute_input": "2025-04-19T11:27:28.394503Z",
     "iopub.status.busy": "2025-04-19T11:27:28.394246Z",
     "iopub.status.idle": "2025-04-19T11:27:28.408883Z",
     "shell.execute_reply": "2025-04-19T11:27:28.408306Z",
     "shell.execute_reply.started": "2025-04-19T11:27:28.394478Z"
    },
    "trusted": true
   },
   "outputs": [],
   "source": [
    "# Training loop\n",
    "def train_model(model, criterion, optimizer, num_epochs=5):\n",
    "    best_acc = 0.0\n",
    "    for epoch in range(num_epochs):\n",
    "        print(f\"\\nEpoch {epoch+1}/{num_epochs}\")\n",
    "        print(\"-\" * 10)\n",
    "\n",
    "        for phase in ['train', 'val']:\n",
    "            if phase == 'train':\n",
    "                model.train()\n",
    "            else:\n",
    "                model.eval()\n",
    "\n",
    "            running_loss = 0.0\n",
    "            running_corrects = 0\n",
    "\n",
    "            for inputs, labels in dataloaders[phase]:\n",
    "                inputs = inputs.to(device)\n",
    "                labels = labels.to(device)\n",
    "\n",
    "                optimizer.zero_grad()\n",
    "                with torch.set_grad_enabled(phase == 'train'):\n",
    "                    outputs = model(inputs)\n",
    "                    _, preds = torch.max(outputs, 1)\n",
    "                    loss = criterion(outputs, labels)\n",
    "                    if phase == 'train':\n",
    "                        loss.backward()\n",
    "                        optimizer.step()\n",
    "\n",
    "                running_loss += loss.item() * inputs.size(0)\n",
    "                running_corrects += torch.sum(preds == labels.data)\n",
    "\n",
    "            epoch_loss = running_loss / len(image_datasets[phase])\n",
    "            epoch_acc = running_corrects.double() / len(image_datasets[phase])\n",
    "\n",
    "            print(f\"{phase} Loss: {epoch_loss:.4f} Acc: {epoch_acc:.4f}\")\n",
    "\n",
    "    return model"
   ]
  },
  {
   "cell_type": "code",
   "execution_count": 40,
   "metadata": {
    "execution": {
     "iopub.execute_input": "2025-04-19T11:27:28.410389Z",
     "iopub.status.busy": "2025-04-19T11:27:28.409692Z",
     "iopub.status.idle": "2025-04-19T11:27:39.851571Z",
     "shell.execute_reply": "2025-04-19T11:27:39.850767Z",
     "shell.execute_reply.started": "2025-04-19T11:27:28.410366Z"
    },
    "trusted": true
   },
   "outputs": [
    {
     "name": "stdout",
     "output_type": "stream",
     "text": [
      "\n",
      "Epoch 1/10\n",
      "----------\n",
      "train Loss: 0.6884 Acc: 0.7704\n",
      "val Loss: 5.0959 Acc: 0.8113\n",
      "\n",
      "Epoch 2/10\n",
      "----------\n",
      "train Loss: 0.3737 Acc: 0.8396\n",
      "val Loss: 0.4962 Acc: 0.8302\n",
      "\n",
      "Epoch 3/10\n",
      "----------\n",
      "train Loss: 0.1967 Acc: 0.9245\n",
      "val Loss: 0.4596 Acc: 0.8113\n",
      "\n",
      "Epoch 4/10\n",
      "----------\n",
      "train Loss: 0.1929 Acc: 0.9214\n",
      "val Loss: 0.3253 Acc: 0.8679\n",
      "\n",
      "Epoch 5/10\n",
      "----------\n",
      "train Loss: 0.2593 Acc: 0.8868\n",
      "val Loss: 0.3957 Acc: 0.8491\n",
      "\n",
      "Epoch 6/10\n",
      "----------\n",
      "train Loss: 0.1624 Acc: 0.9403\n",
      "val Loss: 0.1530 Acc: 0.9057\n",
      "\n",
      "Epoch 7/10\n",
      "----------\n",
      "train Loss: 0.2332 Acc: 0.8994\n",
      "val Loss: 0.2733 Acc: 0.9245\n",
      "\n",
      "Epoch 8/10\n",
      "----------\n",
      "train Loss: 0.1365 Acc: 0.9465\n",
      "val Loss: 0.2089 Acc: 0.9245\n",
      "\n",
      "Epoch 9/10\n",
      "----------\n",
      "train Loss: 0.0559 Acc: 0.9780\n",
      "val Loss: 0.0737 Acc: 0.9434\n",
      "\n",
      "Epoch 10/10\n",
      "----------\n",
      "train Loss: 0.0429 Acc: 0.9811\n",
      "val Loss: 0.1105 Acc: 0.9811\n"
     ]
    }
   ],
   "source": [
    "model = train_model(model, criterion, optimizer, num_epochs=10)"
   ]
  },
  {
   "cell_type": "code",
   "execution_count": 41,
   "metadata": {
    "execution": {
     "iopub.execute_input": "2025-04-19T11:27:39.853050Z",
     "iopub.status.busy": "2025-04-19T11:27:39.852718Z",
     "iopub.status.idle": "2025-04-19T11:27:39.857566Z",
     "shell.execute_reply": "2025-04-19T11:27:39.856847Z",
     "shell.execute_reply.started": "2025-04-19T11:27:39.853018Z"
    },
    "trusted": true
   },
   "outputs": [],
   "source": [
    "# Evaluation\n",
    "model.eval()\n",
    "y_true, y_pred = [], []\n"
   ]
  },
  {
   "cell_type": "code",
   "execution_count": 42,
   "metadata": {
    "execution": {
     "iopub.execute_input": "2025-04-19T11:27:39.858593Z",
     "iopub.status.busy": "2025-04-19T11:27:39.858373Z",
     "iopub.status.idle": "2025-04-19T11:27:40.113313Z",
     "shell.execute_reply": "2025-04-19T11:27:40.112551Z",
     "shell.execute_reply.started": "2025-04-19T11:27:39.858578Z"
    },
    "trusted": true
   },
   "outputs": [],
   "source": [
    "with torch.no_grad():\n",
    "    for inputs, labels in dataloaders[\"test\"]:\n",
    "        inputs = inputs.to(device)\n",
    "        labels = labels.to(device)\n",
    "        outputs = model(inputs)\n",
    "        _, preds = torch.max(outputs, 1)\n",
    "        y_true.extend(labels.cpu().numpy())\n",
    "        y_pred.extend(preds.cpu().numpy())"
   ]
  },
  {
   "cell_type": "code",
   "execution_count": 43,
   "metadata": {
    "execution": {
     "iopub.execute_input": "2025-04-19T11:27:40.114944Z",
     "iopub.status.busy": "2025-04-19T11:27:40.114600Z",
     "iopub.status.idle": "2025-04-19T11:27:40.127496Z",
     "shell.execute_reply": "2025-04-19T11:27:40.126851Z",
     "shell.execute_reply.started": "2025-04-19T11:27:40.114910Z"
    },
    "trusted": true
   },
   "outputs": [
    {
     "name": "stdout",
     "output_type": "stream",
     "text": [
      "\n",
      "Classification Report:\n",
      "              precision    recall  f1-score   support\n",
      "\n",
      "     chicken       0.96      0.93      0.95        28\n",
      "        duck       0.93      0.96      0.95        28\n",
      "\n",
      "    accuracy                           0.95        56\n",
      "   macro avg       0.95      0.95      0.95        56\n",
      "weighted avg       0.95      0.95      0.95        56\n",
      "\n"
     ]
    }
   ],
   "source": [
    "print(\"\\nClassification Report:\")\n",
    "print(classification_report(y_true, y_pred, target_names=class_names))"
   ]
  },
  {
   "cell_type": "code",
   "execution_count": null,
   "metadata": {
    "trusted": true
   },
   "outputs": [],
   "source": []
  }
 ],
 "metadata": {
  "kaggle": {
   "accelerator": "gpu",
   "dataSources": [
    {
     "datasetId": 4796447,
     "sourceId": 8118245,
     "sourceType": "datasetVersion"
    }
   ],
   "dockerImageVersionId": 31012,
   "isGpuEnabled": true,
   "isInternetEnabled": true,
   "language": "python",
   "sourceType": "notebook"
  },
  "kernelspec": {
   "display_name": "Python 3",
   "language": "python",
   "name": "python3"
  },
  "language_info": {
   "codemirror_mode": {
    "name": "ipython",
    "version": 3
   },
   "file_extension": ".py",
   "mimetype": "text/x-python",
   "name": "python",
   "nbconvert_exporter": "python",
   "pygments_lexer": "ipython3",
   "version": "3.11.11"
  }
 },
 "nbformat": 4,
 "nbformat_minor": 4
}
